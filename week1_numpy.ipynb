{
  "nbformat": 4,
  "nbformat_minor": 0,
  "metadata": {
    "colab": {
      "provenance": [],
      "mount_file_id": "1v16tA_bYpZ1-n-dFLgFRpqO6NzQbieKF",
      "authorship_tag": "ABX9TyN4baHLmjDSrIDAVVfAN6Tn",
      "include_colab_link": true
    },
    "kernelspec": {
      "name": "python3",
      "display_name": "Python 3"
    },
    "language_info": {
      "name": "python"
    }
  },
  "cells": [
    {
      "cell_type": "markdown",
      "metadata": {
        "id": "view-in-github",
        "colab_type": "text"
      },
      "source": [
        "<a href=\"https://colab.research.google.com/github/8WHOVIAN8/DAstudy/blob/%EC%8B%A0%EC%84%B1%ED%98%84/week1_numpy.ipynb\" target=\"_parent\"><img src=\"https://colab.research.google.com/assets/colab-badge.svg\" alt=\"Open In Colab\"/></a>"
      ]
    },
    {
      "cell_type": "markdown",
      "source": [
        "**실습 코드**"
      ],
      "metadata": {
        "id": "PQOBsOepIraw"
      }
    },
    {
      "cell_type": "code",
      "source": [
        "import numpy as np #넘파이 추가"
      ],
      "metadata": {
        "id": "fccXxBH4Ioge"
      },
      "execution_count": null,
      "outputs": []
    },
    {
      "cell_type": "markdown",
      "source": [
        "2.1) 리스트로 배열 생성"
      ],
      "metadata": {
        "id": "xt5DYXG0MUlO"
      }
    },
    {
      "cell_type": "code",
      "execution_count": null,
      "metadata": {
        "colab": {
          "base_uri": "https://localhost:8080/"
        },
        "id": "tjTKuqxE0B6U",
        "outputId": "dc449c81-bfb3-43fb-fa6e-9842b36f20f9"
      },
      "outputs": [
        {
          "output_type": "stream",
          "name": "stdout",
          "text": [
            "일차원: [1 2 3 4 5]\n",
            "이차원: [[1 2 3]\n",
            " [4 5 6]]\n",
            "삼차원: [[[1 2 3]\n",
            "  [4 5 6]]\n",
            "\n",
            " [[1 2 3]\n",
            "  [4 5 6]]]\n"
          ]
        }
      ],
      "source": [
        "arr1=np.array(range(1,6))\n",
        "print('일차원:',arr1)\n",
        "arr2=np.array([[1,2,3],[4,5,6]])\n",
        "print('이차원:',arr2)\n",
        "arr3=np.array([[[1,2,3],[4,5,6]],[[1,2,3],[4,5,6]]])\n",
        "print('삼차원:',arr3)"
      ]
    },
    {
      "cell_type": "markdown",
      "source": [
        "2.2) 배열 생성 및 초기화"
      ],
      "metadata": {
        "id": "w700Tq9BMwO2"
      }
    },
    {
      "cell_type": "code",
      "source": [
        "a=np.zeros(10)\n",
        "print(a)\n",
        "b=np.ones((2,3))\n",
        "print(b)\n",
        "c=np.full((2,2),1.5)\n",
        "print(c)\n",
        "d=np.eye(3)\n",
        "print(d)"
      ],
      "metadata": {
        "colab": {
          "base_uri": "https://localhost:8080/"
        },
        "id": "g64IWKpFMvsC",
        "outputId": "af293e29-098f-4d44-dae7-7c458b2c330c"
      },
      "execution_count": null,
      "outputs": [
        {
          "output_type": "stream",
          "name": "stdout",
          "text": [
            "[0. 0. 0. 0. 0. 0. 0. 0. 0. 0.]\n",
            "[[1. 1. 1.]\n",
            " [1. 1. 1.]]\n",
            "[[1.5 1.5]\n",
            " [1.5 1.5]]\n",
            "[[1. 0. 0.]\n",
            " [0. 1. 0.]\n",
            " [0. 0. 1.]]\n"
          ]
        }
      ]
    },
    {
      "cell_type": "markdown",
      "source": [
        "2.3) 생성한 값으로 배열 생성"
      ],
      "metadata": {
        "id": "P4bF0E0jNQe9"
      }
    },
    {
      "cell_type": "code",
      "source": [
        "a=np.arange(1,21)\n",
        "print(a)\n",
        "b=np.linspace(0,10,5)\n",
        "print(b)\n",
        "c=np.logspace(np.log10(10),np.log10(100),5)\n",
        "print(c)\n",
        "d=np.logspace(1,2,5)\n",
        "print(d)"
      ],
      "metadata": {
        "colab": {
          "base_uri": "https://localhost:8080/"
        },
        "id": "YflRKKJzJBvo",
        "outputId": "e4f58b2c-75cb-423f-ae53-fe8466cf67d8"
      },
      "execution_count": null,
      "outputs": [
        {
          "output_type": "stream",
          "name": "stdout",
          "text": [
            "[ 1  2  3  4  5  6  7  8  9 10 11 12 13 14 15 16 17 18 19 20]\n",
            "[ 0.   2.5  5.   7.5 10. ]\n",
            "[ 10.          17.7827941   31.6227766   56.23413252 100.        ]\n",
            "[ 10.          17.7827941   31.6227766   56.23413252 100.        ]\n"
          ]
        }
      ]
    },
    {
      "cell_type": "markdown",
      "source": [
        "2.4) 난수 기반으로 배열 생성"
      ],
      "metadata": {
        "id": "kQBTLlTgNgG0"
      }
    },
    {
      "cell_type": "code",
      "source": [
        "print(np.random.random((4,3))) #random 함수- [0,1)사이의 랜덤값\n",
        "print(np.random.randint(1,10,(3,3)))#randint 함수- 정한 범위내의 랜덤int값 반환\n",
        "print(np.random.rand(3,3))#rand- [0,1)의 균등분포 반환\n",
        "print(np.random.randn(3,3))#randn- 표준 정규 분포에서 표본추출"
      ],
      "metadata": {
        "colab": {
          "base_uri": "https://localhost:8080/"
        },
        "id": "SaP7A1TCKhEy",
        "outputId": "1b4e8348-fe15-47c4-f7e1-2f592de36242"
      },
      "execution_count": null,
      "outputs": [
        {
          "output_type": "stream",
          "name": "stdout",
          "text": [
            "[[0.93723658 0.30911575 0.967568  ]\n",
            " [0.60899655 0.22034601 0.22072368]\n",
            " [0.6967241  0.42334021 0.90057888]\n",
            " [0.08960528 0.53083037 0.95995616]]\n",
            "[[4 4 3]\n",
            " [8 5 3]\n",
            " [2 1 3]]\n",
            "[[4.71844784e-01 4.19503494e-01 5.54901763e-01]\n",
            " [2.18820392e-04 7.83565552e-01 5.23235302e-01]\n",
            " [1.84352433e-01 1.52379145e-01 2.19003405e-01]]\n",
            "[[ 1.37075576  0.01646608 -0.04100061]\n",
            " [ 1.44860125 -0.38141915  0.80509325]\n",
            " [ 1.07327852  1.3038606  -0.7254614 ]]\n"
          ]
        }
      ]
    },
    {
      "cell_type": "markdown",
      "source": [
        "3.2) 넘파이 배열 속성 정보"
      ],
      "metadata": {
        "id": "higGSMCcPFJR"
      }
    },
    {
      "cell_type": "code",
      "source": [
        "arr=np.array([[1,2,3],[4,5,6]])\n",
        "print(arr)\n",
        "print(arr.ndim)\n",
        "print(arr.shape)\n",
        "print(arr.size)\n",
        "print(arr.dtype)\n",
        "print(arr.itemsize)\n",
        "print(arr.data)"
      ],
      "metadata": {
        "colab": {
          "base_uri": "https://localhost:8080/"
        },
        "id": "zdfVXF97NjM-",
        "outputId": "55c05b57-02e6-4a7b-9d0d-7f16430a8a2c"
      },
      "execution_count": null,
      "outputs": [
        {
          "output_type": "stream",
          "name": "stdout",
          "text": [
            "[[1 2 3]\n",
            " [4 5 6]]\n",
            "2\n",
            "(2, 3)\n",
            "6\n",
            "int64\n",
            "8\n",
            "<memory at 0x7f190b4ad2f0>\n"
          ]
        }
      ]
    },
    {
      "cell_type": "markdown",
      "source": [
        "3.3) 배열의 인덱싱"
      ],
      "metadata": {
        "id": "upsJrgt9QPvr"
      }
    },
    {
      "cell_type": "code",
      "source": [
        "arr=np.array([[1,2,3],[4,5,6]])\n",
        "print(arr)\n",
        "print(arr[0,2])#이차원 배열의 인덱싱\n",
        "arr[0,2]=10\n",
        "print(arr)"
      ],
      "metadata": {
        "colab": {
          "base_uri": "https://localhost:8080/"
        },
        "id": "_oPpHeIQPrTf",
        "outputId": "1ea8a51a-dadc-4a8c-974d-cbc79874bf0b"
      },
      "execution_count": null,
      "outputs": [
        {
          "output_type": "stream",
          "name": "stdout",
          "text": [
            "[[1 2 3]\n",
            " [4 5 6]]\n",
            "3\n",
            "[[ 1  2 10]\n",
            " [ 4  5  6]]\n"
          ]
        }
      ]
    },
    {
      "cell_type": "markdown",
      "source": [
        "3.4) 배열의 슬라이싱"
      ],
      "metadata": {
        "id": "Eve8m0w1QnAo"
      }
    },
    {
      "cell_type": "code",
      "source": [
        "a1=np.arange(1,10)#1차원\n",
        "print(a1[2:9])\n",
        "print(a1[::5])\n",
        "a2=np.arange(1,10).reshape(3,3)#2차원\n",
        "print(a2[2:,::-1])"
      ],
      "metadata": {
        "colab": {
          "base_uri": "https://localhost:8080/"
        },
        "id": "3CSIohVqQi0b",
        "outputId": "62fd4a79-fc94-4e90-afa0-d05e36bbd5a0"
      },
      "execution_count": null,
      "outputs": [
        {
          "output_type": "stream",
          "name": "stdout",
          "text": [
            "[3 4 5 6 7 8 9]\n",
            "[1 6]\n",
            "[[9 8 7]]\n"
          ]
        }
      ]
    },
    {
      "cell_type": "markdown",
      "source": [
        "3.5) 논리 인덱싱"
      ],
      "metadata": {
        "id": "wOpzsWY5RTvz"
      }
    },
    {
      "cell_type": "code",
      "source": [
        "a=np.arange(1,5)\n",
        "b=[True,True,False,False]\n",
        "print(a[b])\n",
        "b=np.arange(10)\n",
        "print(b[b<5])\n",
        "print(b[~(b==8)])\n",
        "print(b[b%3==0])\n",
        "print(b[(b%2==0)&(b>3)])"
      ],
      "metadata": {
        "colab": {
          "base_uri": "https://localhost:8080/"
        },
        "id": "D9E4nvGURGyi",
        "outputId": "eb8c4103-d213-4e14-a7dd-9285ec0e5a26"
      },
      "execution_count": null,
      "outputs": [
        {
          "output_type": "stream",
          "name": "stdout",
          "text": [
            "[1 2]\n",
            "[0 1 2 3 4]\n",
            "[0 1 2 3 4 5 6 7 9]\n",
            "[0 3 6 9]\n",
            "[4 6 8]\n"
          ]
        }
      ]
    },
    {
      "cell_type": "markdown",
      "source": [
        "4.1) 배열의 연산"
      ],
      "metadata": {
        "id": "DCIVtYj7SWfG"
      }
    },
    {
      "cell_type": "code",
      "source": [
        "print(np.add(1,2))\n",
        "print(np.subtract(1,2))\n",
        "print(np.multiply(1,2))\n",
        "print(np.divide(1,2))\n",
        "print(np.mod(1,2))"
      ],
      "metadata": {
        "colab": {
          "base_uri": "https://localhost:8080/"
        },
        "id": "nCNBkTH3Rm5j",
        "outputId": "1bda6735-f858-4376-de49-e72f067e339c"
      },
      "execution_count": null,
      "outputs": [
        {
          "output_type": "stream",
          "name": "stdout",
          "text": [
            "3\n",
            "-1\n",
            "2\n",
            "0.5\n",
            "1\n"
          ]
        }
      ]
    },
    {
      "cell_type": "code",
      "source": [
        "a=np.arange(1,10).reshape(3,3)\n",
        "print(a.sum())\n",
        "print(np.sum(a,axis=0))\n",
        "print(a.max(axis=1))\n",
        "print(a.mean(axis=0))\n",
        "#표준편차 .std()/np.std()가능"
      ],
      "metadata": {
        "colab": {
          "base_uri": "https://localhost:8080/"
        },
        "id": "1u_enmlDSkci",
        "outputId": "b1f058a5-8cd1-4b25-c44c-9a2ac678f396"
      },
      "execution_count": null,
      "outputs": [
        {
          "output_type": "stream",
          "name": "stdout",
          "text": [
            "45\n",
            "[12 15 18]\n",
            "[3 6 9]\n",
            "[4. 5. 6.]\n"
          ]
        }
      ]
    },
    {
      "cell_type": "markdown",
      "source": [
        "4.2) 브로드캐스팅 연산"
      ],
      "metadata": {
        "id": "EKIRBosCTe3Y"
      }
    },
    {
      "cell_type": "code",
      "source": [
        "#shape가 다를때\n",
        "a=np.arange(5).reshape(1,5)\n",
        "print(a+100)\n",
        "b=np.arange(5).reshape(5,1)\n",
        "print(a+b)"
      ],
      "metadata": {
        "colab": {
          "base_uri": "https://localhost:8080/"
        },
        "id": "fQlnjYRhTJmm",
        "outputId": "daff6ec2-ac14-4b18-80cf-975374675131"
      },
      "execution_count": null,
      "outputs": [
        {
          "output_type": "stream",
          "name": "stdout",
          "text": [
            "[[100 101 102 103 104]]\n",
            "[[0 1 2 3 4]\n",
            " [1 2 3 4 5]\n",
            " [2 3 4 5 6]\n",
            " [3 4 5 6 7]\n",
            " [4 5 6 7 8]]\n"
          ]
        }
      ]
    },
    {
      "cell_type": "markdown",
      "source": [
        "4.3) 넘파이 벡터 연산"
      ],
      "metadata": {
        "id": "tc1fBiB-UijN"
      }
    },
    {
      "cell_type": "code",
      "source": [
        "result=np.sum(a+b)\n",
        "print(result)"
      ],
      "metadata": {
        "colab": {
          "base_uri": "https://localhost:8080/"
        },
        "id": "lhLL_aapT4pE",
        "outputId": "1adf009c-0dc3-4006-f61d-34b4381f7610"
      },
      "execution_count": null,
      "outputs": [
        {
          "output_type": "stream",
          "name": "stdout",
          "text": [
            "100\n"
          ]
        }
      ]
    },
    {
      "cell_type": "markdown",
      "source": [
        "5.1) 전치"
      ],
      "metadata": {
        "id": "mNP3t4cvU0bO"
      }
    },
    {
      "cell_type": "code",
      "source": [
        "a=np.random.randint(1,10,(3,3))\n",
        "print(a)\n",
        "print(a.T)"
      ],
      "metadata": {
        "colab": {
          "base_uri": "https://localhost:8080/"
        },
        "id": "2y87TwWpUwfo",
        "outputId": "b8d21881-fa44-41c9-8d10-4d09cfcc3c56"
      },
      "execution_count": null,
      "outputs": [
        {
          "output_type": "stream",
          "name": "stdout",
          "text": [
            "[[7 4 2]\n",
            " [9 8 4]\n",
            " [6 8 7]]\n",
            "[[7 9 6]\n",
            " [4 8 8]\n",
            " [2 4 7]]\n"
          ]
        }
      ]
    },
    {
      "cell_type": "markdown",
      "source": [
        "5.2) 배열 형태 변경"
      ],
      "metadata": {
        "id": "xM4tDwx0VAnQ"
      }
    },
    {
      "cell_type": "code",
      "source": [
        "a=np.arange(1,7).reshape(3,2)\n",
        "print(a)\n",
        "b=a.ravel()\n",
        "b[0]=100\n",
        "print(b)\n",
        "print(a)#원본 배열도 수정된다.\n",
        "#reshape애서도 동일한 메모리를 공유하므로 배열들의 데이터가 같이 수정된다."
      ],
      "metadata": {
        "colab": {
          "base_uri": "https://localhost:8080/"
        },
        "id": "-jk9vp3LVCZz",
        "outputId": "9870882d-6ae1-48b4-b825-ba55b52f723a"
      },
      "execution_count": null,
      "outputs": [
        {
          "output_type": "stream",
          "name": "stdout",
          "text": [
            "[[1 2]\n",
            " [3 4]\n",
            " [5 6]]\n",
            "[100   2   3   4   5   6]\n",
            "[[100   2]\n",
            " [  3   4]\n",
            " [  5   6]]\n"
          ]
        }
      ]
    },
    {
      "cell_type": "markdown",
      "source": [
        "5.3) 배열 요소 추가 및 삭제"
      ],
      "metadata": {
        "id": "Owuxb3SWV6RU"
      }
    },
    {
      "cell_type": "code",
      "source": [
        "x=np.arange(20).reshape(4,5)\n",
        "print(x)\n",
        "y=np.resize(x,(1,5))#resize- 동일한 메모리를 공유하지 않는다.\n",
        "print(y)\n",
        "a=np.append(x,y,axis=0)#append\n",
        "print(a)\n",
        "b=np.delete(a,0,axis=0)#delete\n",
        "print(b)\n",
        "k=np.insert(b,0,100,axis=0)#insert\n",
        "print(k)#모두 축 지정을 안하면 1차원으로 변환된다."
      ],
      "metadata": {
        "colab": {
          "base_uri": "https://localhost:8080/"
        },
        "id": "Z1Glf0RLVVeT",
        "outputId": "132eb163-a7ca-4514-f434-83711e14453e"
      },
      "execution_count": null,
      "outputs": [
        {
          "output_type": "stream",
          "name": "stdout",
          "text": [
            "[[ 0  1  2  3  4]\n",
            " [ 5  6  7  8  9]\n",
            " [10 11 12 13 14]\n",
            " [15 16 17 18 19]]\n",
            "[[0 1 2 3 4]]\n",
            "[[ 0  1  2  3  4]\n",
            " [ 5  6  7  8  9]\n",
            " [10 11 12 13 14]\n",
            " [15 16 17 18 19]\n",
            " [ 0  1  2  3  4]]\n",
            "[[ 5  6  7  8  9]\n",
            " [10 11 12 13 14]\n",
            " [15 16 17 18 19]\n",
            " [ 0  1  2  3  4]]\n",
            "[[100 100 100 100 100]\n",
            " [  5   6   7   8   9]\n",
            " [ 10  11  12  13  14]\n",
            " [ 15  16  17  18  19]\n",
            " [  0   1   2   3   4]]\n"
          ]
        }
      ]
    },
    {
      "cell_type": "markdown",
      "source": [
        "5.4) 배열 결합"
      ],
      "metadata": {
        "id": "ciskIVCjX7r5"
      }
    },
    {
      "cell_type": "code",
      "source": [
        "a1=np.array([[1,2,3]])\n",
        "a2=np.array([[4,5,6]])\n",
        "arr1=np.concatenate((a1,a2))#concatenate\n",
        "print(arr1)\n",
        "arr2=np.concatenate((a1,a2),axis=1)\n",
        "print(arr2)\n",
        "arr3=np.vstack((a1,a2))#vstack- axis=0 방향\n",
        "print(arr3)\n",
        "arr4=np.hstack((a1,a2))#hstack- axis=1 방향\n",
        "print(arr4)\n",
        "print(np.vsplit(arr3,2))#vsplit\n",
        "arr1=np.insert(arr1,0,0,axis=1)\n",
        "print(arr1)\n",
        "print(np.hsplit(arr1,2))#hsplit"
      ],
      "metadata": {
        "colab": {
          "base_uri": "https://localhost:8080/"
        },
        "id": "yMOraD_pWMCi",
        "outputId": "4fbd486a-9892-47bd-94eb-d97251f4aae8"
      },
      "execution_count": null,
      "outputs": [
        {
          "output_type": "stream",
          "name": "stdout",
          "text": [
            "[[1 2 3]\n",
            " [4 5 6]]\n",
            "[[1 2 3 4 5 6]]\n",
            "[[1 2 3]\n",
            " [4 5 6]]\n",
            "[[1 2 3 4 5 6]]\n",
            "[array([[1, 2, 3]]), array([[4, 5, 6]])]\n",
            "[[0 1 2 3]\n",
            " [0 4 5 6]]\n",
            "[array([[0, 1],\n",
            "       [0, 4]]), array([[2, 3],\n",
            "       [5, 6]])]\n"
          ]
        }
      ]
    },
    {
      "cell_type": "markdown",
      "source": [
        "**연습 문제 코드**"
      ],
      "metadata": {
        "id": "GzA587c2bmx5"
      }
    },
    {
      "cell_type": "markdown",
      "source": [
        "연습1"
      ],
      "metadata": {
        "id": "VtXp-ENLbzS5"
      }
    },
    {
      "cell_type": "code",
      "source": [
        "arr=np.arange(1,11)\n",
        "print(arr)\n",
        "print('ndim:',arr.ndim)\n",
        "print(arr.shape)\n",
        "print(arr.dtype)\n",
        "print('size:',arr.size)"
      ],
      "metadata": {
        "colab": {
          "base_uri": "https://localhost:8080/"
        },
        "id": "O2Dq_fztZUKC",
        "outputId": "1f6b9c07-97e5-4e4c-beec-b04710ae7827"
      },
      "execution_count": null,
      "outputs": [
        {
          "output_type": "stream",
          "name": "stdout",
          "text": [
            "[ 1  2  3  4  5  6  7  8  9 10]\n",
            "ndim: 1\n",
            "(10,)\n",
            "int64\n",
            "size: 10\n"
          ]
        }
      ]
    },
    {
      "cell_type": "markdown",
      "source": [
        "연습2"
      ],
      "metadata": {
        "id": "XwmwdPq9cO6O"
      }
    },
    {
      "cell_type": "code",
      "source": [
        "#1\n",
        "arr1=np.arange(10,51)\n",
        "print(arr1[::-1])\n",
        "#2\n",
        "arr2=np.random.random((10,10))\n",
        "print(arr2.min(),end=' ')\n",
        "print(arr2.max())\n",
        "#3\n",
        "arr3=np.arange(9).reshape(3,3)\n",
        "print(arr3)\n",
        "#4\n",
        "arr4=np.arange(1,25).reshape(4,6)\n",
        "print(arr4)\n",
        "#5\n",
        "print(arr4[1:3,1:5])\n",
        "#6\n",
        "print(arr4[2:,::-1])\n",
        "#7\n",
        "print(arr4[arr4%2==0])\n",
        "#8\n",
        "print(arr4[(arr4>=10)&(arr4<=20)])"
      ],
      "metadata": {
        "colab": {
          "base_uri": "https://localhost:8080/"
        },
        "id": "smmvlFFmcGQ8",
        "outputId": "bee563c7-3924-4b4f-c8d9-c4ba99e3152a"
      },
      "execution_count": null,
      "outputs": [
        {
          "output_type": "stream",
          "name": "stdout",
          "text": [
            "[50 49 48 47 46 45 44 43 42 41 40 39 38 37 36 35 34 33 32 31 30 29 28 27\n",
            " 26 25 24 23 22 21 20 19 18 17 16 15 14 13 12 11 10]\n",
            "0.011678096593641718 0.9943249568763706\n",
            "[[0 1 2]\n",
            " [3 4 5]\n",
            " [6 7 8]]\n",
            "[[ 1  2  3  4  5  6]\n",
            " [ 7  8  9 10 11 12]\n",
            " [13 14 15 16 17 18]\n",
            " [19 20 21 22 23 24]]\n",
            "[[ 8  9 10 11]\n",
            " [14 15 16 17]]\n",
            "[[18 17 16 15 14 13]\n",
            " [24 23 22 21 20 19]]\n",
            "[ 2  4  6  8 10 12 14 16 18 20 22 24]\n",
            "[10 11 12 13 14 15 16 17 18 19 20]\n"
          ]
        },
        {
          "output_type": "execute_result",
          "data": {
            "text/plain": [
              "array([10, 11, 12, 13, 14, 15, 16, 17, 18, 19, 20])"
            ]
          },
          "metadata": {},
          "execution_count": 85
        }
      ]
    },
    {
      "cell_type": "markdown",
      "source": [
        "연습3"
      ],
      "metadata": {
        "id": "H-oKXQvbda6q"
      }
    },
    {
      "cell_type": "code",
      "source": [
        "arr=np.arange(1,21)\n",
        "print('마지막 원소:',arr[-1])\n",
        "print('모든 원소의 합:',arr.sum())\n",
        "avg=arr.sum()//arr.size\n",
        "print('모든 원소의 평균:',avg)"
      ],
      "metadata": {
        "colab": {
          "base_uri": "https://localhost:8080/"
        },
        "id": "ZdjLUnBbcfnR",
        "outputId": "49e2faea-6bb0-4b2f-8ea8-bbc0187d25e6"
      },
      "execution_count": null,
      "outputs": [
        {
          "output_type": "stream",
          "name": "stdout",
          "text": [
            "마지막 원소: 20\n",
            "모든 원소의 합: 210\n",
            "모든 원소의 평균: 10\n"
          ]
        }
      ]
    },
    {
      "cell_type": "markdown",
      "source": [
        "연습4"
      ],
      "metadata": {
        "id": "AyW_1qoHhlSb"
      }
    },
    {
      "cell_type": "code",
      "source": [
        "salary=[200,100,150,180,220,250]\n",
        "new_salary=np.array(salary,dtype='float64')*1.5\n",
        "print('인상된 금액:',new_salary)\n",
        "avg_salary=new_salary.sum()//new_salary.size\n",
        "print('평균 금액:',avg_salary)\n",
        "result=np.array(new_salary>avg_salary)\n",
        "print('평균 이상인 원소:', new_salary[result])\n",
        "print('평균 이상인 원소의 개수:',np.sum(result))"
      ],
      "metadata": {
        "colab": {
          "base_uri": "https://localhost:8080/"
        },
        "id": "BKDcKjQNgWDq",
        "outputId": "4f16e9b3-887a-47d3-d4b4-e145c085dcac"
      },
      "execution_count": null,
      "outputs": [
        {
          "output_type": "stream",
          "name": "stdout",
          "text": [
            "인상된 금액: [300. 150. 225. 270. 330. 375.]\n",
            "평균 금액: 275.0\n",
            "평균 이상인 원소: [300. 330. 375.]\n",
            "평균 이상인 원소의 개수: 3\n"
          ]
        }
      ]
    },
    {
      "cell_type": "code",
      "source": [],
      "metadata": {
        "id": "GFZW4d8IiqBe"
      },
      "execution_count": null,
      "outputs": []
    }
  ]
}