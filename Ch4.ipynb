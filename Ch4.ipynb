{
  "nbformat": 4,
  "nbformat_minor": 0,
  "metadata": {
    "colab": {
      "provenance": [],
      "authorship_tag": "ABX9TyPZDjOsQSBQBeHgdwjtGOwl",
      "include_colab_link": true
    },
    "kernelspec": {
      "name": "python3",
      "display_name": "Python 3"
    },
    "language_info": {
      "name": "python"
    }
  },
  "cells": [
    {
      "cell_type": "markdown",
      "metadata": {
        "id": "view-in-github",
        "colab_type": "text"
      },
      "source": [
        "<a href=\"https://colab.research.google.com/github/8WHOVIAN8/DAstudy/blob/%EC%B5%9C%EC%9C%A0%EC%84%A0/Ch4.ipynb\" target=\"_parent\"><img src=\"https://colab.research.google.com/assets/colab-badge.svg\" alt=\"Open In Colab\"/></a>"
      ]
    },
    {
      "cell_type": "code",
      "source": [
        "import numpy as np #넘파이를 사용하기 위해서 import"
      ],
      "metadata": {
        "id": "mxgTyNzgpeX7"
      },
      "execution_count": null,
      "outputs": []
    },
    {
      "cell_type": "code",
      "source": [
        "#실습코드4-1\n",
        "arr = np.array([1,2,3,4,5]) #1차원 list로 배열 생성\n",
        "print(arr)"
      ],
      "metadata": {
        "colab": {
          "base_uri": "https://localhost:8080/"
        },
        "id": "7q1pQTXjpm2f",
        "outputId": "66d42193-ba6f-4a5f-f01b-64c0f675d515"
      },
      "execution_count": null,
      "outputs": [
        {
          "output_type": "stream",
          "name": "stdout",
          "text": [
            "[1 2 3 4 5]\n"
          ]
        }
      ]
    },
    {
      "cell_type": "code",
      "source": [
        "#실습코드4-2\n",
        "arr = np.array([[1,2,3],[4,5,6]]) #2차원 list로 배열 생성\n",
        "print(arr)"
      ],
      "metadata": {
        "colab": {
          "base_uri": "https://localhost:8080/"
        },
        "id": "uhAgzm6zqrtT",
        "outputId": "2712564b-0b83-45c1-9197-6ceae89c7e6b"
      },
      "execution_count": null,
      "outputs": [
        {
          "output_type": "stream",
          "name": "stdout",
          "text": [
            "[[1 2 3]\n",
            " [4 5 6]]\n"
          ]
        }
      ]
    },
    {
      "cell_type": "code",
      "source": [
        "#실습코드4-3\n",
        "arr = np.array([[[1,2,3],[4,5,6],[7,8,9]], #3차원 list로 배열 생성, []의 개수가 차원 명시\n",
        "                [[1,2,3,],[4,5,6],[7,8,9]],\n",
        "                [[1,2,3],[4,5,6],[7,8,9]]])\n",
        "print(arr)"
      ],
      "metadata": {
        "colab": {
          "base_uri": "https://localhost:8080/"
        },
        "id": "2nfoZcAYrChz",
        "outputId": "d5525ce2-118b-4070-f28f-19bfe1ac54e4"
      },
      "execution_count": null,
      "outputs": [
        {
          "output_type": "stream",
          "name": "stdout",
          "text": [
            "[[[1 2 3]\n",
            "  [4 5 6]\n",
            "  [7 8 9]]\n",
            "\n",
            " [[1 2 3]\n",
            "  [4 5 6]\n",
            "  [7 8 9]]\n",
            "\n",
            " [[1 2 3]\n",
            "  [4 5 6]\n",
            "  [7 8 9]]]\n"
          ]
        }
      ]
    },
    {
      "cell_type": "code",
      "source": [
        "a = np.zeros(5)\n",
        "b = np.zeros((3,3))\n",
        "c = np.ones(5)\n",
        "d = np.ones((2,2)) #인덱스 2개로 2차원 배열\n",
        "e = np.full((3,3),4) #3*3 matrix에 어떤 값 넣을지\n",
        "f = np.eye(3) #주대각선의 원소가 1\n",
        "print(a)\n",
        "print(b)\n",
        "print(c)\n",
        "print(d)\n",
        "print(e)\n",
        "print(f)"
      ],
      "metadata": {
        "colab": {
          "base_uri": "https://localhost:8080/"
        },
        "id": "GhnbNqL7rj9i",
        "outputId": "a8dd4504-fd79-4730-9fbe-a44d7e35f48d"
      },
      "execution_count": null,
      "outputs": [
        {
          "output_type": "stream",
          "name": "stdout",
          "text": [
            "[0. 0. 0. 0. 0.]\n",
            "[[0. 0. 0.]\n",
            " [0. 0. 0.]\n",
            " [0. 0. 0.]]\n",
            "[1. 1. 1. 1. 1.]\n",
            "[[1. 1.]\n",
            " [1. 1.]]\n",
            "[[4 4 4]\n",
            " [4 4 4]\n",
            " [4 4 4]]\n",
            "[[1. 0. 0.]\n",
            " [0. 1. 0.]\n",
            " [0. 0. 1.]]\n"
          ]
        }
      ]
    },
    {
      "cell_type": "code",
      "source": [
        "#실습코드4-4\n",
        "a = np.arange(1,15)\n",
        "print(a)"
      ],
      "metadata": {
        "colab": {
          "base_uri": "https://localhost:8080/"
        },
        "id": "dr_MUHeDs4RS",
        "outputId": "39f0d8eb-dd59-4ea9-ceb3-1ac23910c5a0"
      },
      "execution_count": null,
      "outputs": [
        {
          "output_type": "stream",
          "name": "stdout",
          "text": [
            "[ 1  2  3  4  5  6  7  8  9 10 11 12 13 14]\n"
          ]
        }
      ]
    },
    {
      "cell_type": "code",
      "source": [
        "#실습코드4-5\n",
        "a = np.linspace(0,10,5) #범위 내에서 균등 간격의 배열 생성\n",
        "print(a)"
      ],
      "metadata": {
        "colab": {
          "base_uri": "https://localhost:8080/"
        },
        "id": "Cab1DEDvt-IE",
        "outputId": "a52cde6b-6ed5-4ef9-ea82-f58cf0f077af"
      },
      "execution_count": null,
      "outputs": [
        {
          "output_type": "stream",
          "name": "stdout",
          "text": [
            "[ 0.   2.5  5.   7.5 10. ]\n"
          ]
        }
      ]
    },
    {
      "cell_type": "code",
      "source": [
        "#실습코드4-6\n",
        "a = np.logspace(np.log10(10), np.log10(100), 5) #범위 내에서 로그 스케일로 배열 생성\n",
        "print(a)\n",
        "\n",
        "b = np.logspace(1,2,5)\n",
        "print(b)"
      ],
      "metadata": {
        "colab": {
          "base_uri": "https://localhost:8080/"
        },
        "id": "D9sIPX-UvGIX",
        "outputId": "b48d6c4c-1532-42b8-80c4-c05f0dc94922"
      },
      "execution_count": null,
      "outputs": [
        {
          "output_type": "stream",
          "name": "stdout",
          "text": [
            "[ 10.          17.7827941   31.6227766   56.23413252 100.        ]\n",
            "[ 10.          17.7827941   31.6227766   56.23413252 100.        ]\n"
          ]
        }
      ]
    },
    {
      "cell_type": "code",
      "source": [
        "#실습코드4-7\n",
        "a = np.random.random() #랜덤으로 생성\n",
        "print(a)\n",
        "\n",
        "b = np.random.random((4,4)) #4*4 배열로 랜덤 수 생성\n",
        "print(b)"
      ],
      "metadata": {
        "colab": {
          "base_uri": "https://localhost:8080/"
        },
        "id": "6nQPyEa2viWQ",
        "outputId": "7edf1811-c5b2-4933-8bee-d44e7bb86686"
      },
      "execution_count": null,
      "outputs": [
        {
          "output_type": "stream",
          "name": "stdout",
          "text": [
            "0.255035867017924\n",
            "[[0.64495787 0.24626898 0.14556039 0.03519269]\n",
            " [0.16277639 0.04873044 0.42745247 0.42184979]\n",
            " [0.40437526 0.5551482  0.87748491 0.78475693]\n",
            " [0.01471817 0.27339599 0.60505602 0.55538819]]\n"
          ]
        }
      ]
    },
    {
      "cell_type": "code",
      "source": [
        "#실습코드4-8\n",
        "a = np.random.randint(1,10)\n",
        "print(a)\n",
        "\n",
        "b = np.random.randint(1,10,(4,4))\n",
        "print(b)"
      ],
      "metadata": {
        "colab": {
          "base_uri": "https://localhost:8080/"
        },
        "id": "0zHotAyvwVAc",
        "outputId": "c7bc18a1-6cb1-46ed-8e91-d7c4dfec7689"
      },
      "execution_count": null,
      "outputs": [
        {
          "output_type": "stream",
          "name": "stdout",
          "text": [
            "2\n",
            "[[2 9 9 9]\n",
            " [1 2 9 1]\n",
            " [2 8 8 8]\n",
            " [1 2 4 8]]\n"
          ]
        }
      ]
    },
    {
      "cell_type": "code",
      "source": [
        "#실습코드4-9\n",
        "a = np.random.rand(3,3)\n",
        "print(a)"
      ],
      "metadata": {
        "colab": {
          "base_uri": "https://localhost:8080/"
        },
        "id": "CG3hmrlvw7JT",
        "outputId": "d78d4930-4c79-4c38-8c69-753a72f6ec9a"
      },
      "execution_count": null,
      "outputs": [
        {
          "output_type": "stream",
          "name": "stdout",
          "text": [
            "[[0.96904911 0.09135736 0.96070479]\n",
            " [0.6565424  0.70866451 0.05513633]\n",
            " [0.15129051 0.34178667 0.51806279]]\n"
          ]
        }
      ]
    },
    {
      "cell_type": "code",
      "source": [
        "#실습코드4-10\n",
        "a = np.random.randn(3,3)\n",
        "print(a)"
      ],
      "metadata": {
        "colab": {
          "base_uri": "https://localhost:8080/"
        },
        "id": "H7Qyiaftxtmm",
        "outputId": "a89ac4d4-6915-446d-becc-215ffdc38711"
      },
      "execution_count": null,
      "outputs": [
        {
          "output_type": "stream",
          "name": "stdout",
          "text": [
            "[[-0.9175176   2.14108291 -0.84943232]\n",
            " [ 2.09702767 -0.17542317  0.52581438]\n",
            " [ 0.32587056 -0.05351096  0.59047477]]\n"
          ]
        }
      ]
    },
    {
      "cell_type": "code",
      "source": [
        "#실습코드4-11\n",
        "arr = np.arange(1,6)\n",
        "print(arr)\n",
        "print('ndim:', arr.ndim) #배열 차원 수\n",
        "print('shape:', arr.shape)\n",
        "print('dtype:', arr.dtype)\n",
        "print('size', arr.size)\n",
        "print('itemsize', arr.itemsize)\n",
        "print('nbytes', arr.nbytes)"
      ],
      "metadata": {
        "colab": {
          "base_uri": "https://localhost:8080/"
        },
        "id": "uZNroHLq21nw",
        "outputId": "358be6d9-bbbd-4f19-b548-c6499f3ac12c"
      },
      "execution_count": null,
      "outputs": [
        {
          "output_type": "stream",
          "name": "stdout",
          "text": [
            "[1 2 3 4 5]\n",
            "ndim: 1\n",
            "shape: (5,)\n",
            "dtype: int64\n",
            "size 5\n",
            "itemsize 8\n",
            "nbytes 40\n"
          ]
        }
      ]
    },
    {
      "cell_type": "code",
      "source": [
        "#실습코드4-12\n",
        "a1 = np.arange(9)\n",
        "print(a1)\n",
        "print(a1[0])\n",
        "print(a1[-1])\n",
        "print(a1[-3])\n",
        "a1[0]=10\n",
        "print(a1)"
      ],
      "metadata": {
        "colab": {
          "base_uri": "https://localhost:8080/"
        },
        "id": "WFoiFqkj4Ene",
        "outputId": "8c117f6b-1b6f-4210-dd47-6bce3c86ec8b"
      },
      "execution_count": null,
      "outputs": [
        {
          "output_type": "stream",
          "name": "stdout",
          "text": [
            "[0 1 2 3 4 5 6 7 8]\n",
            "0\n",
            "8\n",
            "6\n",
            "[10  1  2  3  4  5  6  7  8]\n"
          ]
        }
      ]
    },
    {
      "cell_type": "code",
      "source": [
        "#실습코드4-13\n",
        "a2 = np.arange(9).reshape((3,3))\n",
        "print(a2)\n",
        "print(a2[0,1])\n",
        "print(a2[1,2])\n",
        "a2[0,0]=10\n",
        "print(a2)"
      ],
      "metadata": {
        "colab": {
          "base_uri": "https://localhost:8080/"
        },
        "id": "Y0sTDEZ15C_H",
        "outputId": "038f3d99-a9ca-4610-ab5e-241623db0041"
      },
      "execution_count": null,
      "outputs": [
        {
          "output_type": "stream",
          "name": "stdout",
          "text": [
            "[[0 1 2]\n",
            " [3 4 5]\n",
            " [6 7 8]]\n",
            "1\n",
            "5\n",
            "[[10  1  2]\n",
            " [ 3  4  5]\n",
            " [ 6  7  8]]\n"
          ]
        }
      ]
    },
    {
      "cell_type": "code",
      "source": [
        "#실습코드4-14\n",
        "a1 = np.arange(6)\n",
        "print(a1)\n",
        "print(a1[0:3])\n",
        "print(a1[1:])\n",
        "print(a1[-2:])\n",
        "print(a1[:-3])\n",
        "print(a1[::2])\n",
        "print(a1[::-1])\n"
      ],
      "metadata": {
        "colab": {
          "base_uri": "https://localhost:8080/"
        },
        "id": "oR70t0pz5wSh",
        "outputId": "7deaa989-94c2-424d-b4fb-b75201487162"
      },
      "execution_count": null,
      "outputs": [
        {
          "output_type": "stream",
          "name": "stdout",
          "text": [
            "[0 1 2 3 4 5]\n",
            "[0 1 2]\n",
            "[1 2 3 4 5]\n",
            "[4 5]\n",
            "[0 1 2]\n",
            "[0 2 4]\n",
            "[5 4 3 2 1 0]\n"
          ]
        }
      ]
    },
    {
      "cell_type": "code",
      "source": [
        "#실습코드4-15\n",
        "a2 = np.arange(1,25).reshape((4,6))\n",
        "print(a2[1])\n",
        "print(a2[1:3,1:5])\n",
        "print(a2[2,:])\n",
        "print(a2[:3,:3])\n",
        "print(a2[2:,::-1])\n",
        "print(a2[::-1,::-1])"
      ],
      "metadata": {
        "colab": {
          "base_uri": "https://localhost:8080/"
        },
        "id": "99eNMBoO64v7",
        "outputId": "79129418-ec2c-4e36-a9dc-c84ec1952769"
      },
      "execution_count": null,
      "outputs": [
        {
          "output_type": "stream",
          "name": "stdout",
          "text": [
            "[ 7  8  9 10 11 12]\n",
            "[[ 8  9 10 11]\n",
            " [14 15 16 17]]\n",
            "[13 14 15 16 17 18]\n",
            "[[ 1  2  3]\n",
            " [ 7  8  9]\n",
            " [13 14 15]]\n",
            "[[18 17 16 15 14 13]\n",
            " [24 23 22 21 20 19]]\n",
            "[[24 23 22 21 20 19]\n",
            " [18 17 16 15 14 13]\n",
            " [12 11 10  9  8  7]\n",
            " [ 6  5  4  3  2  1]]\n"
          ]
        }
      ]
    },
    {
      "cell_type": "code",
      "source": [
        "#실습코드4-16\n",
        "a = np.arange(1,6)\n",
        "print(a)\n",
        "b = [True,False,False,True,False]\n",
        "print(a[b])"
      ],
      "metadata": {
        "colab": {
          "base_uri": "https://localhost:8080/"
        },
        "id": "J21mmz1O76Q7",
        "outputId": "a99e47bf-6115-46c7-c3ef-67008471da5e"
      },
      "execution_count": null,
      "outputs": [
        {
          "output_type": "stream",
          "name": "stdout",
          "text": [
            "[1 2 3 4 5]\n",
            "[1 4]\n"
          ]
        }
      ]
    },
    {
      "cell_type": "code",
      "source": [
        "a = np.arange(11)\n",
        "print(a[a<5])\n",
        "five_up = (a>=5)\n",
        "five_up\n",
        "print(a[five_up])\n",
        "divide_by_2 = a[a%2==0]\n",
        "print(divide_by_2)"
      ],
      "metadata": {
        "colab": {
          "base_uri": "https://localhost:8080/"
        },
        "id": "rEuDcpGH8PHN",
        "outputId": "e9f66c90-2311-4f98-ba69-f959a9469b12"
      },
      "execution_count": null,
      "outputs": [
        {
          "output_type": "stream",
          "name": "stdout",
          "text": [
            "[0 1 2 3 4]\n",
            "[ 5  6  7  8  9 10]\n",
            "[ 0  2  4  6  8 10]\n"
          ]
        }
      ]
    },
    {
      "cell_type": "code",
      "source": [
        "#실습코드4-18\n",
        "c = a[(a>5) & (a<11)]\n",
        "print(c)\n",
        "d = a[(a>9) | (a<5)]\n",
        "print(d)\n",
        "e = a[~(a%3==0)]\n",
        "print(e)"
      ],
      "metadata": {
        "colab": {
          "base_uri": "https://localhost:8080/"
        },
        "id": "c1VoOkog82fg",
        "outputId": "9b84de90-f44b-4ce1-a96f-98b9a888791f"
      },
      "execution_count": null,
      "outputs": [
        {
          "output_type": "stream",
          "name": "stdout",
          "text": [
            "[ 6  7  8  9 10]\n",
            "[ 0  1  2  3  4 10]\n",
            "[ 1  2  4  5  7  8 10]\n"
          ]
        }
      ]
    },
    {
      "cell_type": "code",
      "source": [
        "#실습코드4-19\n",
        "a = np.arange(1,11)\n",
        "b = np.arange(1,11)\n",
        "print(a+b)\n",
        "print(np.add(a,b))\n",
        "print(a-b)\n",
        "print(np.subtract(a,b))\n",
        "print(a*b)\n",
        "print(np.multiply(a,b))\n",
        "print(a/b)\n",
        "print(np.divide(a,b))"
      ],
      "metadata": {
        "colab": {
          "base_uri": "https://localhost:8080/"
        },
        "id": "rojW9XhV9Oxc",
        "outputId": "37d797c0-6ffe-420e-a3a3-4be8811eeeda"
      },
      "execution_count": null,
      "outputs": [
        {
          "output_type": "stream",
          "name": "stdout",
          "text": [
            "[ 2  4  6  8 10 12 14 16 18 20]\n",
            "[ 2  4  6  8 10 12 14 16 18 20]\n",
            "[0 0 0 0 0 0 0 0 0 0]\n",
            "[0 0 0 0 0 0 0 0 0 0]\n",
            "[  1   4   9  16  25  36  49  64  81 100]\n",
            "[  1   4   9  16  25  36  49  64  81 100]\n",
            "[1. 1. 1. 1. 1. 1. 1. 1. 1. 1.]\n",
            "[1. 1. 1. 1. 1. 1. 1. 1. 1. 1.]\n"
          ]
        }
      ]
    },
    {
      "cell_type": "code",
      "source": [
        "#실습코드4-20\n",
        "a = np.arange(1,11)\n",
        "print(np.exp(a))\n",
        "print(np.sqrt(a))\n",
        "print(np.sin(a))\n",
        "print(np.cos(a))\n",
        "print(np.tan(a))\n",
        "print(np.log(a))"
      ],
      "metadata": {
        "colab": {
          "base_uri": "https://localhost:8080/"
        },
        "id": "uXopPXPKC9UG",
        "outputId": "174cef20-79ed-49fc-e6df-40570f46854e"
      },
      "execution_count": null,
      "outputs": [
        {
          "output_type": "stream",
          "name": "stdout",
          "text": [
            "[2.71828183e+00 7.38905610e+00 2.00855369e+01 5.45981500e+01\n",
            " 1.48413159e+02 4.03428793e+02 1.09663316e+03 2.98095799e+03\n",
            " 8.10308393e+03 2.20264658e+04]\n",
            "[1.         1.41421356 1.73205081 2.         2.23606798 2.44948974\n",
            " 2.64575131 2.82842712 3.         3.16227766]\n",
            "[ 0.84147098  0.90929743  0.14112001 -0.7568025  -0.95892427 -0.2794155\n",
            "  0.6569866   0.98935825  0.41211849 -0.54402111]\n",
            "[ 0.54030231 -0.41614684 -0.9899925  -0.65364362  0.28366219  0.96017029\n",
            "  0.75390225 -0.14550003 -0.91113026 -0.83907153]\n",
            "[ 1.55740772 -2.18503986 -0.14254654  1.15782128 -3.38051501 -0.29100619\n",
            "  0.87144798 -6.79971146 -0.45231566  0.64836083]\n",
            "[0.         0.69314718 1.09861229 1.38629436 1.60943791 1.79175947\n",
            " 1.94591015 2.07944154 2.19722458 2.30258509]\n"
          ]
        }
      ]
    },
    {
      "cell_type": "code",
      "source": [
        "#실습코드4-21\n",
        "a = np.arange(1,10).reshape(3,3)\n",
        "print(a.sum())\n",
        "print(np.sum(a))\n",
        "print(a)\n",
        "b = a.sum(axis=0)\n",
        "print(b)\n",
        "c = a.sum(axis=1)\n",
        "print(c)"
      ],
      "metadata": {
        "colab": {
          "base_uri": "https://localhost:8080/"
        },
        "id": "rH-FJLMtDQa-",
        "outputId": "266b3e68-9b95-4b07-b3b1-c715a923d9f5"
      },
      "execution_count": null,
      "outputs": [
        {
          "output_type": "stream",
          "name": "stdout",
          "text": [
            "45\n",
            "45\n",
            "[[1 2 3]\n",
            " [4 5 6]\n",
            " [7 8 9]]\n",
            "[12 15 18]\n",
            "[ 6 15 24]\n"
          ]
        }
      ]
    },
    {
      "cell_type": "code",
      "source": [
        "#실습코드4-22\n",
        "a = np.arange(1,10).reshape(3,3)\n",
        "print(a)\n",
        "print(a.max(),np.max(a))\n",
        "print(a.max(axis=0), np.max(a,axis=0))\n",
        "print(a.max(axis=1), np.max(a,axis=1))"
      ],
      "metadata": {
        "colab": {
          "base_uri": "https://localhost:8080/"
        },
        "id": "fPoZOsO2EKKi",
        "outputId": "045e61e5-91f3-4a1a-f9e5-a1ecc2303cfd"
      },
      "execution_count": null,
      "outputs": [
        {
          "output_type": "stream",
          "name": "stdout",
          "text": [
            "[[1 2 3]\n",
            " [4 5 6]\n",
            " [7 8 9]]\n",
            "9 9\n",
            "[7 8 9] [7 8 9]\n",
            "[3 6 9] [3 6 9]\n"
          ]
        }
      ]
    },
    {
      "cell_type": "code",
      "source": [
        "#실습코드4-23\n",
        "a = np.arange(1,10).reshape(3,3)\n",
        "print(a)\n",
        "print(a.min(), np.min(a))\n",
        "print(a.min(axis=0), np.min(a,axis=0))\n",
        "print(a.min(axis=1), np.min(a,axis=1))"
      ],
      "metadata": {
        "colab": {
          "base_uri": "https://localhost:8080/"
        },
        "id": "y_B-ZonlE1Yz",
        "outputId": "964e69bf-86da-4ec1-bc27-d36c262690ac"
      },
      "execution_count": null,
      "outputs": [
        {
          "output_type": "stream",
          "name": "stdout",
          "text": [
            "[[1 2 3]\n",
            " [4 5 6]\n",
            " [7 8 9]]\n",
            "1 1\n",
            "[1 2 3] [1 2 3]\n",
            "[1 4 7] [1 4 7]\n"
          ]
        }
      ]
    },
    {
      "cell_type": "code",
      "source": [
        "#실습코드4-24\n",
        "a = np.arange(1,10).reshape(3,3)\n",
        "print(a)\n",
        "print(a.mean(),np.mean(a))\n",
        "print(a.mean(axis=0),np.mean(a,axis=0))\n",
        "print(a.mean(axis=1),np.mean(a,axis=1))\n",
        "print(np.median(a))"
      ],
      "metadata": {
        "colab": {
          "base_uri": "https://localhost:8080/"
        },
        "id": "8F_y8Ci0HrBa",
        "outputId": "3e6f6f77-4ed7-4149-ac1b-5014a6c188ae"
      },
      "execution_count": null,
      "outputs": [
        {
          "output_type": "stream",
          "name": "stdout",
          "text": [
            "[[1 2 3]\n",
            " [4 5 6]\n",
            " [7 8 9]]\n",
            "5.0 5.0\n",
            "[4. 5. 6.] [4. 5. 6.]\n",
            "[2. 5. 8.] [2. 5. 8.]\n",
            "5.0\n"
          ]
        }
      ]
    },
    {
      "cell_type": "code",
      "source": [
        "#실습코드4-25\n",
        "a = np.arange(1,10).reshape(3,3)\n",
        "print(a)\n",
        "print(a.std(), np.std(a))\n",
        "print(a.std(axis=0), np.std(a,axis=0))\n",
        "print(a.std(axis=1), np.std(a,axis=1))"
      ],
      "metadata": {
        "colab": {
          "base_uri": "https://localhost:8080/"
        },
        "id": "avamlTIFIMNi",
        "outputId": "f79d76f4-a8f4-4b0e-a466-eed2f3c66878"
      },
      "execution_count": null,
      "outputs": [
        {
          "output_type": "stream",
          "name": "stdout",
          "text": [
            "[[1 2 3]\n",
            " [4 5 6]\n",
            " [7 8 9]]\n",
            "2.581988897471611 2.581988897471611\n",
            "[2.44948974 2.44948974 2.44948974] [2.44948974 2.44948974 2.44948974]\n",
            "[0.81649658 0.81649658 0.81649658] [0.81649658 0.81649658 0.81649658]\n"
          ]
        }
      ]
    },
    {
      "cell_type": "code",
      "source": [
        "#실습코드4-26\n",
        "x = np.array([1,2,3,4,5])\n",
        "y = np.array([1,1,1,1,1])\n",
        "print(x+y)\n",
        "y=1 #broadcasting이란 shape이 맞지 않을 때, 확장을 시켜서 맞추는 것\n",
        "print(x+y)"
      ],
      "metadata": {
        "colab": {
          "base_uri": "https://localhost:8080/"
        },
        "id": "4aEYftu3IxAU",
        "outputId": "0551536a-6bff-4e90-e3c3-4bcdaf65c336"
      },
      "execution_count": null,
      "outputs": [
        {
          "output_type": "stream",
          "name": "stdout",
          "text": [
            "[2 3 4 5 6]\n",
            "[2 3 4 5 6]\n"
          ]
        }
      ]
    },
    {
      "cell_type": "code",
      "source": [
        "#실습코드4-27\n",
        "a = np.arange(1,25).reshape(4,6)\n",
        "print(a+100)\n",
        "new_arr = np.full_like(a,100)\n",
        "print(new_arr)\n",
        "print(a+new_arr)"
      ],
      "metadata": {
        "colab": {
          "base_uri": "https://localhost:8080/"
        },
        "id": "RTNGkSIvJHKD",
        "outputId": "767e514a-3ff2-4817-d8c1-7b2e9238f9e4"
      },
      "execution_count": null,
      "outputs": [
        {
          "output_type": "stream",
          "name": "stdout",
          "text": [
            "[[101 102 103 104 105 106]\n",
            " [107 108 109 110 111 112]\n",
            " [113 114 115 116 117 118]\n",
            " [119 120 121 122 123 124]]\n",
            "[[100 100 100 100 100 100]\n",
            " [100 100 100 100 100 100]\n",
            " [100 100 100 100 100 100]\n",
            " [100 100 100 100 100 100]]\n",
            "[[101 102 103 104 105 106]\n",
            " [107 108 109 110 111 112]\n",
            " [113 114 115 116 117 118]\n",
            " [119 120 121 122 123 124]]\n"
          ]
        }
      ]
    },
    {
      "cell_type": "code",
      "source": [
        "a = np.arange(5).reshape((1,5))\n",
        "print(a)\n",
        "b = np.arange(5).reshape((5,1))\n",
        "print(b)\n",
        "print(a+b)"
      ],
      "metadata": {
        "colab": {
          "base_uri": "https://localhost:8080/"
        },
        "id": "dTjrSnDMJcQi",
        "outputId": "5f1f1a15-38ea-4f24-82d5-a4050feec821"
      },
      "execution_count": null,
      "outputs": [
        {
          "output_type": "stream",
          "name": "stdout",
          "text": [
            "[[0 1 2 3 4]]\n",
            "[[0]\n",
            " [1]\n",
            " [2]\n",
            " [3]\n",
            " [4]]\n",
            "[[0 1 2 3 4]\n",
            " [1 2 3 4 5]\n",
            " [2 3 4 5 6]\n",
            " [3 4 5 6 7]\n",
            " [4 5 6 7 8]]\n"
          ]
        }
      ]
    },
    {
      "cell_type": "code",
      "source": [
        "import time\n",
        "a = np.arange(10000000)\n",
        "result = 0\n",
        "s = time.time()\n",
        "for v in a:\n",
        "  result += v\n",
        "e = time.time()\n",
        "print(result, e-s)\n",
        "s = time.time()\n",
        "result = np.sum(a)\n",
        "e = time.time()\n",
        "print(result,e-s)"
      ],
      "metadata": {
        "colab": {
          "base_uri": "https://localhost:8080/"
        },
        "id": "hbwjey70JzBl",
        "outputId": "e0bb4f88-e8ea-4485-8c26-7b77e3d3d228"
      },
      "execution_count": null,
      "outputs": [
        {
          "output_type": "stream",
          "name": "stdout",
          "text": [
            "49999995000000 2.8093924522399902\n",
            "49999995000000 0.00928354263305664\n"
          ]
        }
      ]
    },
    {
      "cell_type": "code",
      "source": [
        "a = np.random.randint(1,10,(3,3))\n",
        "print(a)\n",
        "print(a.T)"
      ],
      "metadata": {
        "colab": {
          "base_uri": "https://localhost:8080/"
        },
        "id": "3F89WLDaKcZX",
        "outputId": "08fc570e-7392-403a-8c8d-7c0f32b4547b"
      },
      "execution_count": null,
      "outputs": [
        {
          "output_type": "stream",
          "name": "stdout",
          "text": [
            "[[6 1 7]\n",
            " [7 1 4]\n",
            " [1 3 5]]\n",
            "[[6 7 1]\n",
            " [1 1 3]\n",
            " [7 4 5]]\n"
          ]
        }
      ]
    },
    {
      "cell_type": "code",
      "source": [
        "a = np.array([[1,2,3],[4,5,6]])\n",
        "print(a)\n",
        "a.ravel()\n",
        "b = a.ravel()\n",
        "b[0] = 10\n",
        "print(b)\n",
        "print(a)"
      ],
      "metadata": {
        "colab": {
          "base_uri": "https://localhost:8080/"
        },
        "id": "axhfs0toKohv",
        "outputId": "2da5e3f4-6a4a-4518-9532-7000fe8646c6"
      },
      "execution_count": null,
      "outputs": [
        {
          "output_type": "stream",
          "name": "stdout",
          "text": [
            "[[1 2 3]\n",
            " [4 5 6]]\n",
            "[10  2  3  4  5  6]\n",
            "[[10  2  3]\n",
            " [ 4  5  6]]\n"
          ]
        }
      ]
    },
    {
      "cell_type": "code",
      "source": [
        "x = np.arange(20)\n",
        "y = x.reshape(4,5)\n",
        "print(y)\n",
        "x[0] = 10\n",
        "print(x)\n",
        "print(y)"
      ],
      "metadata": {
        "colab": {
          "base_uri": "https://localhost:8080/"
        },
        "id": "FhtVqY4lLOnF",
        "outputId": "67b8bf1e-f566-45ea-a8f4-d91189dbe177"
      },
      "execution_count": null,
      "outputs": [
        {
          "output_type": "stream",
          "name": "stdout",
          "text": [
            "[[ 0  1  2  3  4]\n",
            " [ 5  6  7  8  9]\n",
            " [10 11 12 13 14]\n",
            " [15 16 17 18 19]]\n",
            "[10  1  2  3  4  5  6  7  8  9 10 11 12 13 14 15 16 17 18 19]\n",
            "[[10  1  2  3  4]\n",
            " [ 5  6  7  8  9]\n",
            " [10 11 12 13 14]\n",
            " [15 16 17 18 19]]\n"
          ]
        }
      ]
    },
    {
      "cell_type": "code",
      "source": [
        "list_data = [1,2,3,4,5,6]\n",
        "#list_data.reshape(3,2)\n",
        "data = np.array(list_data)\n",
        "type(data)\n",
        "print(data.reshape(3,2))\n",
        "print(list_data)"
      ],
      "metadata": {
        "colab": {
          "base_uri": "https://localhost:8080/"
        },
        "id": "uWwtHEZrLuRE",
        "outputId": "da82605d-edb9-42a0-e083-e8677f32896d"
      },
      "execution_count": null,
      "outputs": [
        {
          "output_type": "stream",
          "name": "stdout",
          "text": [
            "[[1 2]\n",
            " [3 4]\n",
            " [5 6]]\n",
            "[1, 2, 3, 4, 5, 6]\n"
          ]
        }
      ]
    },
    {
      "cell_type": "code",
      "source": [
        "x = np.arange(20)\n",
        "y = np.resize(x,(5,4))\n",
        "y\n",
        "#새 배열에 요소 수가 많으면 원래 가지고 있는 배열의 데이터 반복\n",
        "#새 배열에 요소 수가 적으면 필요한 요소 수를 행 순서대로 가져온"
      ],
      "metadata": {
        "colab": {
          "base_uri": "https://localhost:8080/"
        },
        "id": "c9DdFEpMMjbp",
        "outputId": "058a7f7d-ac40-4231-8953-123e51be39c4"
      },
      "execution_count": null,
      "outputs": [
        {
          "output_type": "execute_result",
          "data": {
            "text/plain": [
              "array([[ 0,  1,  2,  3],\n",
              "       [ 4,  5,  6,  7],\n",
              "       [ 8,  9, 10, 11],\n",
              "       [12, 13, 14, 15],\n",
              "       [16, 17, 18, 19]])"
            ]
          },
          "metadata": {},
          "execution_count": 53
        }
      ]
    },
    {
      "cell_type": "code",
      "source": [
        "a=np.arange(3)\n",
        "b=np.append(a,3)\n",
        "print(b)"
      ],
      "metadata": {
        "colab": {
          "base_uri": "https://localhost:8080/"
        },
        "id": "W3eEeUSJNOCL",
        "outputId": "26d9060e-e120-41b5-8879-631ae3bf07a4"
      },
      "execution_count": null,
      "outputs": [
        {
          "output_type": "stream",
          "name": "stdout",
          "text": [
            "[0 1 2 3]\n"
          ]
        }
      ]
    },
    {
      "cell_type": "code",
      "source": [
        "a=np.array([[1,2,3],[4,5,6]])\n",
        "b=np.array([[7,8,9]]) #축을 지정하지 않았기 때문에 1차원 배열로 바꿔서 출력된다\n",
        "c=np.append(a,b)\n",
        "print(c)"
      ],
      "metadata": {
        "colab": {
          "base_uri": "https://localhost:8080/"
        },
        "id": "jyghTUjNNaiN",
        "outputId": "85288298-462d-412e-c7e9-39e7f77d34c8"
      },
      "execution_count": null,
      "outputs": [
        {
          "output_type": "stream",
          "name": "stdout",
          "text": [
            "[1 2 3 4 5 6 7 8 9]\n"
          ]
        }
      ]
    },
    {
      "cell_type": "code",
      "source": [
        "a=np.array([[1,2,3],[4,5,6]])\n",
        "b=np.array([[7,8,9]])\n",
        "c=np.append(a,b,axis=0) #첫 번째 축을 기준으로 추가해서 2차원 배열을 만들었다\n",
        "print(c)"
      ],
      "metadata": {
        "colab": {
          "base_uri": "https://localhost:8080/"
        },
        "id": "MJSMeGmxNr_l",
        "outputId": "3b636c43-92cc-4c80-d46c-755c204633a6"
      },
      "execution_count": null,
      "outputs": [
        {
          "output_type": "stream",
          "name": "stdout",
          "text": [
            "[[1 2 3]\n",
            " [4 5 6]\n",
            " [7 8 9]]\n"
          ]
        }
      ]
    },
    {
      "cell_type": "code",
      "source": [
        "a=np.array([1,2,3])\n",
        "b=np.insert(a,1,5)\n",
        "print(a)\n",
        "print(b)\n",
        "\n",
        "c=np.array([[1,1],[2,2],[3,3]])\n",
        "d=np.insert(a,1,5)\n",
        "print(c)\n",
        "print(d)"
      ],
      "metadata": {
        "colab": {
          "base_uri": "https://localhost:8080/"
        },
        "id": "pSXyYIcJOIOC",
        "outputId": "8b47cdcb-1447-47a6-ccee-395d65dbbcf9"
      },
      "execution_count": null,
      "outputs": [
        {
          "output_type": "stream",
          "name": "stdout",
          "text": [
            "[1 2 3]\n",
            "[1 5 2 3]\n",
            "[[1 1]\n",
            " [2 2]\n",
            " [3 3]]\n",
            "[1 5 2 3]\n"
          ]
        }
      ]
    },
    {
      "cell_type": "code",
      "source": [
        "a=np.arange(12).reshape(3,4)\n",
        "print(a)\n",
        "print(np.delete(a,1,axis=0))\n",
        "print(np.delete(a,1,axis=1))"
      ],
      "metadata": {
        "colab": {
          "base_uri": "https://localhost:8080/"
        },
        "id": "q-k2TPQnOu8I",
        "outputId": "323c948f-4908-4676-e257-f64c3b9dfb3e"
      },
      "execution_count": null,
      "outputs": [
        {
          "output_type": "stream",
          "name": "stdout",
          "text": [
            "[[ 0  1  2  3]\n",
            " [ 4  5  6  7]\n",
            " [ 8  9 10 11]]\n",
            "[[ 0  1  2  3]\n",
            " [ 8  9 10 11]]\n",
            "[[ 0  2  3]\n",
            " [ 4  6  7]\n",
            " [ 8 10 11]]\n"
          ]
        }
      ]
    },
    {
      "cell_type": "code",
      "source": [
        "#연습문제1\n",
        "arr=np.arange(1,11)\n",
        "print(arr)\n",
        "print('ndim:',arr.ndim)\n",
        "print(arr.shape)\n",
        "print(arr.dtype)\n",
        "print('size:',arr.size)"
      ],
      "metadata": {
        "colab": {
          "base_uri": "https://localhost:8080/"
        },
        "id": "ewu-pzEUQS1W",
        "outputId": "5d20ad61-6b05-4b4d-bc72-53bfbfd2bb6a"
      },
      "execution_count": null,
      "outputs": [
        {
          "output_type": "stream",
          "name": "stdout",
          "text": [
            "[ 1  2  3  4  5  6  7  8  9 10]\n",
            "ndim: 1\n",
            "(10,)\n",
            "int64\n",
            "size: 10\n"
          ]
        }
      ]
    },
    {
      "cell_type": "code",
      "source": [
        "#연습문제2-1\n",
        "a=np.arange(51)\n",
        "c=a[(a>9) & (a<50)]\n"
      ],
      "metadata": {
        "colab": {
          "base_uri": "https://localhost:8080/"
        },
        "id": "-rqsroTSRBVK",
        "outputId": "00599a4b-d33f-45eb-c5ca-adc08f00cdea"
      },
      "execution_count": null,
      "outputs": [
        {
          "output_type": "stream",
          "name": "stdout",
          "text": [
            "[49 48 47 46 45 44 43 42 41 40 39 38 37 36 35 34 33 32 31 30 29 28 27 26\n",
            " 25 24 23 22 21 20 19 18 17 16 15 14 13 12 11 10]\n"
          ]
        }
      ]
    },
    {
      "cell_type": "code",
      "source": [
        "#연습문제2-2\n",
        "import numpy as np\n",
        "a=np.random.randn(10,10)\n",
        "print(a.min(), a.max())"
      ],
      "metadata": {
        "colab": {
          "base_uri": "https://localhost:8080/"
        },
        "id": "vJ-23As1iyni",
        "outputId": "5d0e6e44-e51a-4708-d2ae-f8f8a1c50137"
      },
      "execution_count": null,
      "outputs": [
        {
          "output_type": "stream",
          "name": "stdout",
          "text": [
            "-3.6387109098200314 3.066133351404942\n"
          ]
        }
      ]
    },
    {
      "cell_type": "code",
      "source": [
        "#연습문제2-3\n",
        "a=np.arange(0,9).reshape(3,3)\n",
        "print(a)"
      ],
      "metadata": {
        "colab": {
          "base_uri": "https://localhost:8080/"
        },
        "id": "Vx4IwyFrjwhk",
        "outputId": "334c6a34-ca3a-4ed2-f9b4-be410d5d3919"
      },
      "execution_count": null,
      "outputs": [
        {
          "output_type": "stream",
          "name": "stdout",
          "text": [
            "[[0 1 2]\n",
            " [3 4 5]\n",
            " [6 7 8]]\n"
          ]
        }
      ]
    },
    {
      "cell_type": "code",
      "source": [
        "#연습문제2-4\n",
        "arr=np.arange(1,25)\n",
        "y=np.resize(arr,(4,6))\n",
        "y"
      ],
      "metadata": {
        "colab": {
          "base_uri": "https://localhost:8080/"
        },
        "id": "-GLvj_V0kAK-",
        "outputId": "a8ce1c7a-b759-46d7-e633-294703ef0d9d"
      },
      "execution_count": null,
      "outputs": [
        {
          "output_type": "execute_result",
          "data": {
            "text/plain": [
              "array([[ 1,  2,  3,  4,  5,  6],\n",
              "       [ 7,  8,  9, 10, 11, 12],\n",
              "       [13, 14, 15, 16, 17, 18],\n",
              "       [19, 20, 21, 22, 23, 24]])"
            ]
          },
          "metadata": {},
          "execution_count": 13
        }
      ]
    },
    {
      "cell_type": "code",
      "source": [
        "#연습문제2-5\n",
        "print(y[1:3,1:5])"
      ],
      "metadata": {
        "colab": {
          "base_uri": "https://localhost:8080/"
        },
        "id": "ujq3wi2QltV8",
        "outputId": "c80a4723-1156-45a9-8d6a-39dc2a57782f"
      },
      "execution_count": null,
      "outputs": [
        {
          "output_type": "stream",
          "name": "stdout",
          "text": [
            "[[ 8  9 10 11]\n",
            " [14 15 16 17]]\n"
          ]
        }
      ]
    },
    {
      "cell_type": "code",
      "source": [
        "#연습문제2-6\n",
        "print(y[2:,::-1])"
      ],
      "metadata": {
        "id": "06GxRcoUm08L",
        "colab": {
          "base_uri": "https://localhost:8080/"
        },
        "outputId": "7e57e4c1-3163-492c-a2a2-41c144160c7f"
      },
      "execution_count": null,
      "outputs": [
        {
          "output_type": "stream",
          "name": "stdout",
          "text": [
            "[[18 17 16 15 14 13]\n",
            " [24 23 22 21 20 19]]\n"
          ]
        }
      ]
    },
    {
      "cell_type": "code",
      "source": [
        "#연습문제2-7\n",
        "print(arr[1::2])"
      ],
      "metadata": {
        "colab": {
          "base_uri": "https://localhost:8080/"
        },
        "id": "XoOr7WujodOe",
        "outputId": "19e6b389-c6f0-4021-adff-80b9bd2580ba"
      },
      "execution_count": null,
      "outputs": [
        {
          "output_type": "stream",
          "name": "stdout",
          "text": [
            "[ 2  4  6  8 10 12 14 16 18 20 22 24]\n"
          ]
        }
      ]
    },
    {
      "cell_type": "code",
      "source": [
        "#연습문제2-8\n",
        "print(arr[9:20])"
      ],
      "metadata": {
        "colab": {
          "base_uri": "https://localhost:8080/"
        },
        "id": "HW92LFCwo9Hh",
        "outputId": "3c362609-7171-41a4-9077-9a25e9f357e0"
      },
      "execution_count": null,
      "outputs": [
        {
          "output_type": "stream",
          "name": "stdout",
          "text": [
            "[10 11 12 13 14 15 16 17 18 19 20]\n"
          ]
        }
      ]
    },
    {
      "cell_type": "code",
      "source": [
        "#연습문제3\n",
        "arr=np.arange(1,21)\n",
        "print('마지막 원소:',arr[-1])\n",
        "print('모든 원소의 합:',arr.sum())\n",
        "print('모든 원소의 평균:',arr.min())\n",
        "new_arr=np.random.randint(1,21)\n",
        "print(new_arr)"
      ],
      "metadata": {
        "colab": {
          "base_uri": "https://localhost:8080/"
        },
        "id": "P3ZTUCzNpZgt",
        "outputId": "869d1dcf-bdb7-4dc9-c16a-ee52af129681"
      },
      "execution_count": null,
      "outputs": [
        {
          "output_type": "stream",
          "name": "stdout",
          "text": [
            "마지막 원소: 20\n",
            "모든 원소의 합: 210\n",
            "모든 원소의 평균: 1\n",
            "6\n"
          ]
        }
      ]
    },
    {
      "cell_type": "code",
      "source": [
        "#연습문제4\n",
        "import numpy as np\n",
        "salary=[200,150,180,220,250]\n",
        "new_salary=np.array(salary,dtype='float64')*1.5\n",
        "print('인상된 금액:', new_salary)\n",
        "avg_salary=new_salary.mean()\n",
        "print('평균 금액:', avg_salary)\n",
        "result=(new_salary>=avg_salary)\n",
        "print('평균이상인 원소: ',new_salary[result])\n",
        "print('평균이상인 원소의 개수: ',new_salary[result].size )"
      ],
      "metadata": {
        "id": "nmyaSFgoS6QL",
        "colab": {
          "base_uri": "https://localhost:8080/"
        },
        "outputId": "ebde6a1a-bf69-4cf1-db30-0280d4259cbf"
      },
      "execution_count": 3,
      "outputs": [
        {
          "output_type": "stream",
          "name": "stdout",
          "text": [
            "인상된 금액: [300. 225. 270. 330. 375.]\n",
            "평균 금액: 300.0\n",
            "평균이상인 원소:  [300. 330. 375.]\n",
            "평균이상인 원소의 개수:  3\n"
          ]
        }
      ]
    }
  ]
}